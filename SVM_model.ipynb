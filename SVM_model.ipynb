{
 "cells": [
  {
   "cell_type": "code",
   "execution_count": 11,
   "id": "d1d93ba3-2834-4aad-b7e1-f3a1918a0d53",
   "metadata": {},
   "outputs": [
    {
     "name": "stdout",
     "output_type": "stream",
     "text": [
      "Linear SVM Accuracy: 0.92\n",
      "Best Gamma for RBF SVM: 0.1\n",
      "RBF SVM Accuracy: 0.93\n"
     ]
    }
   ],
   "source": [
    "import pandas as pd\n",
    "from sklearn.svm import SVC\n",
    "from sklearn.model_selection import GridSearchCV\n",
    "from sklearn.metrics import accuracy_score  # Import accuracy_score\n",
    "\n",
    "# Load the dataset\n",
    "file_path = 'student_data.csv'\n",
    "student_data = pd.read_csv(file_path)\n",
    "\n",
    "# Prepare the features (X) and target (y)\n",
    "X = student_data[['Hours_Studied', 'Review_Session']]\n",
    "y = student_data['Results']\n",
    "\n",
    "# Support Vector Machine with linear kernel\n",
    "svm_linear = SVC(kernel='linear', probability=True)\n",
    "svm_linear.fit(X, y)\n",
    "\n",
    "# Predict using the linear kernel SVM\n",
    "y_pred_linear = svm_linear.predict(X)\n",
    "accuracy_linear = accuracy_score(y, y_pred_linear)\n",
    "\n",
    "# Support Vector Machine with RBF kernel and grid search for gamma\n",
    "param_grid = {'gamma': [0.001, 0.01, 0.1, 1, 10, 100]}\n",
    "svm_rbf = SVC(kernel='rbf', probability=True)\n",
    "\n",
    "# Use GridSearchCV with k-fold cross-validation\n",
    "grid_search = GridSearchCV(svm_rbf, param_grid, cv=5, scoring='accuracy')\n",
    "grid_search.fit(X, y)\n",
    "\n",
    "# Best gamma found by grid search\n",
    "best_gamma = grid_search.best_params_['gamma']\n",
    "\n",
    "# Fit the RBF SVM model with the best gamma\n",
    "svm_rbf_best = SVC(kernel='rbf', gamma=best_gamma, probability=True)\n",
    "svm_rbf_best.fit(X, y)\n",
    "\n",
    "# Predict using the RBF kernel SVM\n",
    "y_pred_rbf = svm_rbf_best.predict(X)\n",
    "accuracy_rbf = accuracy_score(y, y_pred_rbf)\n",
    "\n",
    "# Output results\n",
    "print(f\"Linear SVM Accuracy: {accuracy_linear}\")\n",
    "print(f\"Best Gamma for RBF SVM: {best_gamma}\")\n",
    "print(f\"RBF SVM Accuracy: {accuracy_rbf}\")\n",
    "\n"
   ]
  },
  {
   "cell_type": "code",
   "execution_count": null,
   "id": "0ec2fda3-2428-4e6c-a42b-af4bbb64dcb4",
   "metadata": {},
   "outputs": [],
   "source": []
  }
 ],
 "metadata": {
  "kernelspec": {
   "display_name": "Python 3 (ipykernel)",
   "language": "python",
   "name": "python3"
  },
  "language_info": {
   "codemirror_mode": {
    "name": "ipython",
    "version": 3
   },
   "file_extension": ".py",
   "mimetype": "text/x-python",
   "name": "python",
   "nbconvert_exporter": "python",
   "pygments_lexer": "ipython3",
   "version": "3.12.4"
  }
 },
 "nbformat": 4,
 "nbformat_minor": 5
}
